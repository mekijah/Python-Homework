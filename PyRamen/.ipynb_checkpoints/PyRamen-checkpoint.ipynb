{
 "cells": [
  {
   "cell_type": "code",
   "execution_count": 7,
   "metadata": {},
   "outputs": [],
   "source": [
    "import csv\n",
    "from pathlib import Path\n",
    "import sys"
   ]
  },
  {
   "cell_type": "code",
   "execution_count": null,
   "metadata": {},
   "outputs": [],
   "source": [
    "# @TODO: Set file paths for menu_data.csv and sales_data.csv\n"
   ]
  },
  {
   "cell_type": "code",
   "execution_count": 1,
   "metadata": {},
   "outputs": [
    {
     "ename": "NameError",
     "evalue": "name 'x' is not defined",
     "output_type": "error",
     "traceback": [
      "\u001b[1;31m---------------------------------------------------------------------------\u001b[0m",
      "\u001b[1;31mNameError\u001b[0m                                 Traceback (most recent call last)",
      "\u001b[1;32m<ipython-input-1-a9cd2748b1c4>\u001b[0m in \u001b[0;36m<module>\u001b[1;34m\u001b[0m\n\u001b[0;32m     34\u001b[0m     \u001b[1;31m#Extracting each data row one by one into the sales list\u001b[0m\u001b[1;33m\u001b[0m\u001b[1;33m\u001b[0m\u001b[1;33m\u001b[0m\u001b[0m\n\u001b[0;32m     35\u001b[0m     \u001b[1;32mfor\u001b[0m \u001b[0mrow\u001b[0m \u001b[1;32min\u001b[0m \u001b[0mcsv_reader\u001b[0m\u001b[1;33m:\u001b[0m\u001b[1;33m\u001b[0m\u001b[1;33m\u001b[0m\u001b[0m\n\u001b[1;32m---> 36\u001b[1;33m         \u001b[0msales\u001b[0m\u001b[1;33m.\u001b[0m\u001b[0mappend\u001b[0m\u001b[1;33m(\u001b[0m\u001b[0mx\u001b[0m\u001b[1;33m)\u001b[0m\u001b[1;33m\u001b[0m\u001b[1;33m\u001b[0m\u001b[0m\n\u001b[0m\u001b[0;32m     37\u001b[0m \u001b[1;33m\u001b[0m\u001b[0m\n\u001b[0;32m     38\u001b[0m \u001b[1;31m#Path(menu_filepath).exist()\u001b[0m\u001b[1;33m\u001b[0m\u001b[1;33m\u001b[0m\u001b[1;33m\u001b[0m\u001b[0m\n",
      "\u001b[1;31mNameError\u001b[0m: name 'x' is not defined"
     ]
    }
   ],
   "source": [
    "#importing csv module\n",
    "import csv\n",
    "from pathlib import Path\n",
    "\n",
    "#csv file name\n",
    "menu_filepath = Path(\"menu_data.csv\")\n",
    "sales_filepath = Path(\"sales_data.csv\")\n",
    "\n",
    "#initializing the rows list\n",
    "menu = []\n",
    "sales = []\n",
    "\n",
    "#reading menu_data csv file\n",
    "with open(menu_filepath, 'r') as menufile:\n",
    "    \n",
    "    #Extracting header names through first row\n",
    "    csv_reader= csv.reader(menufile, delimiter =',')\n",
    "    h1= next(csv_reader)\n",
    "    \n",
    "    #Extracting each row one by one into the menu list\n",
    "    for row in csv_reader:\n",
    "        menu.append(row)\n",
    "        \n",
    "#Path(menu_filepath).exist()\n",
    "#print(menu)\n",
    "     \n",
    "#Reading sales_data csv file\n",
    "with open(sales_filepath, 'r') as salesfile:\n",
    "    \n",
    "    #Extracting header names through the first row\n",
    "    csv_reader = csv.reader(salesfile, delimiter =',')\n",
    "    h2= next(csv_reader)\n",
    "    \n",
    "    #Extracting each data row one by one into the sales list\n",
    "    for row in csv_reader:\n",
    "        sales.append(row)\n",
    "        \n",
    "#Path(menu_filepath).exist()\n",
    "print(sales[0:10])  \n",
    "\n",
    "# Initialize an empty report dictionary to hold the future aggregated per-product results\n",
    "report = {}\n",
    "print(h2)\n",
    "\n",
    "#Loop through every row of the sales data\n",
    "for sales_row in sales:\n",
    "    \n",
    "    sales_item =sales_row[4]\n",
    "    quantity = sales_row[3]\n",
    "          \n",
    "# Initialize the product report entry to 0 if not already in the dictionary\n",
    "    if(sales_item not in report):\n",
    "        report[sales_item] = {\"01-count\": 0,\"02-revenue\": 0,\"03-cogs\": 0,\"04-profit\": 0,}\n",
    "    \n",
    "    else:\n",
    "        continue\n",
    "        \n",
    "#Get the menu_data details for sale_item\n",
    "  \n",
    "for menu_d in menu:\n",
    "    price = float(menu_d[3])\n",
    "    cost  = float(menu_d[4])\n",
    "    menu_item = menu_d[0]\n",
    "    \n",
    "    for sales_data in sales:\n",
    "    \n",
    "        sales_item = sales_data[4] \n",
    "        quantity = float(sales_data[3])  \n",
    "        profit = price - cost\n",
    "    \n",
    "        if sales_item == menu_item:\n",
    "            report[sales_item][\"01-count\"] += quantity\n",
    "            report[sales_item][\"02-revenue\"] += price * quantity\n",
    "            report[sales_item][\"03-cogs\"] += cost * quantity\n",
    "            report[sales_item][\"04-profit\"] += profit * quantity\n",
    "              \n",
    "\n",
    "# output file with metrics\n",
    "output_path = Path(\"main.ipynb.txt\")\n",
    "default_output = sys.stdout\n",
    "\n",
    "with open(output_path, 'w') as file:\n",
    "    file.write(\"This is the financial report for PyRamen.\\n\")\n",
    "    sys.stdout = file\n",
    "        \n",
    "    print(report)\n",
    "    \n",
    "    sys.stdout = default_output\n",
    "    \n",
    "\n",
    "\n",
    " \n",
    "    "
   ]
  }
 ],
 "metadata": {
  "kernelspec": {
   "display_name": "Python 3",
   "language": "python",
   "name": "python3"
  },
  "language_info": {
   "codemirror_mode": {
    "name": "ipython",
    "version": 3
   },
   "file_extension": ".py",
   "mimetype": "text/x-python",
   "name": "python",
   "nbconvert_exporter": "python",
   "pygments_lexer": "ipython3",
   "version": "3.8.3"
  }
 },
 "nbformat": 4,
 "nbformat_minor": 4
}
