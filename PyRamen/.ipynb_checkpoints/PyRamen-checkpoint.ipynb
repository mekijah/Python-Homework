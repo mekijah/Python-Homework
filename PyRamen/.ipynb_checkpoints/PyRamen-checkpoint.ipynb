{
 "cells": [
  {
   "cell_type": "code",
   "execution_count": null,
   "metadata": {},
   "outputs": [],
   "source": [
    "import csv\n",
    "from pathlib import Path"
   ]
  },
  {
   "cell_type": "code",
   "execution_count": null,
   "metadata": {},
   "outputs": [],
   "source": [
    "# @TODO: Set file paths for menu_data.csv and sales_data.csv\n"
   ]
  },
  {
   "cell_type": "code",
   "execution_count": 4,
   "metadata": {},
   "outputs": [
    {
     "name": "stdout",
     "output_type": "stream",
     "text": [
      "['74124,12-31-2018,5981057609583653,2,spicy miso ramen\\n', '74124,12-31-2018,5981057609583653,2,spicy miso ramen\\n', '74124,12-31-2018,5981057609583653,2,spicy miso ramen\\n', '74124,12-31-2018,5981057609583653,2,spicy miso ramen\\n', '74124,12-31-2018,5981057609583653,2,spicy miso ramen\\n', '74124,12-31-2018,5981057609583653,2,spicy miso ramen\\n', '74124,12-31-2018,5981057609583653,2,spicy miso ramen\\n', '74124,12-31-2018,5981057609583653,2,spicy miso ramen\\n', '74124,12-31-2018,5981057609583653,2,spicy miso ramen\\n', '74124,12-31-2018,5981057609583653,2,spicy miso ramen\\n']\n",
      "['Line_Item_ID', 'Date', 'Credit_Card_Number', 'Quantity', 'Menu_Item']\n"
     ]
    }
   ],
   "source": [
    "#importing csv module\n",
    "import csv\n",
    "from pathlib import Path\n",
    "\n",
    "#csv file name\n",
    "menu_filepath = Path(\"menu_data.csv\")\n",
    "sales_filepath = Path(\"sales_data.csv\")\n",
    "\n",
    "#initializing the rows list\n",
    "menu = []\n",
    "sales = []\n",
    "\n",
    "#reading menu_data csv file\n",
    "with open(menu_filepath, 'r') as menufile:\n",
    "    \n",
    "    #Extracting header names through first row\n",
    "    csv_reader= csv.reader(menufile, delimiter =',')\n",
    "    h1= next(csv_reader)\n",
    "    \n",
    "    #Extracting each row one by one into the menu list\n",
    "    for row in csv_reader:\n",
    "        menu.append(row)\n",
    "        \n",
    "#Path(menu_filepath).exist()\n",
    "#print(menu)\n",
    "     \n",
    "#Reading sales_data csv file\n",
    "with open(sales_filepath, 'r') as salesfile:\n",
    "    \n",
    "    #Extracting header names through the first row\n",
    "    csv_reader = csv.reader(salesfile, delimiter =',')\n",
    "    h2= next(csv_reader)\n",
    "    \n",
    "    #Extracting each data row one by one into the sales list\n",
    "    for row in csv_reader:\n",
    "        sales.append(x)\n",
    "        \n",
    "#Path(menu_filepath).exist()\n",
    "print(sales[0:10])  \n",
    "\n",
    "# Initialize an empty report dictionary to hold the future aggregated per-product results\n",
    "report = {}\n",
    "print(h2)\n",
    "\n",
    "#Loop through every row of the sales data\n",
    "for sales_row in sales:\n",
    "    \n",
    "    sales_item =sales_row[4]\n",
    "    quantity = sales_row[3]\n",
    "          \n",
    "# Initialize the product report entry to 0 if not already in the dictionary\n",
    "    if(sales_item not in report):\n",
    "        report[sales_item] = {\"01-count\": 0,\"02-revenue\": 0,\"03-cogs\": 0,\"04-profit\": 0,}\n",
    "    \n",
    "    else:\n",
    "        continue\n",
    "        \n",
    "#Get the menu_data details for sale_item\n",
    "for sales_data in sales:\n",
    "    \n",
    "    sales_item = sales_data[4] \n",
    "    quantity = sales_data[3]\n",
    "    \n",
    "for menu_d in menu:\n",
    "    menu_price = float(menu_d[3])\n",
    "    menu_cost  = float(menu_d[4])\n",
    "    menu_item = menu_d[0]\n",
    "    \n",
    "    \n",
    "    if sales_item == menu_item:\n",
    "        report[menu_item][\"02-revenue\"] += (int(menu_price) * int(quantity))\n",
    "        report[menu_item][\"03-cogs\"] += (int(menu_cost) * int(quantity))\n",
    "    elif sales_item != menu_item:\n",
    "        continue\n",
    "\n",
    "# calculate profit using revenue and cogs\n",
    "for item, valuedict in report.items():\n",
    "     \n",
    "    for key in valuedict:\n",
    "        \n",
    "        cogs = report[item][\"03-cogs\"]\n",
    "        revenue = report[item][\"02-revenue\"]\n",
    "        \n",
    "        if key == \"04-profit\":\n",
    "            report[item][key] = revenue - cogs\n",
    "        else:\n",
    "            continue \n",
    "\n",
    "# output file with metrics\n",
    "output_path = Path(\"main.ipynb.txt\")\n",
    "\n",
    "with open(output_path, 'w') as file:\n",
    "    file.write(\"This is the financial report for PyRamen.\\n\")\n",
    "    for key in report:\n",
    "        file.write(f\"{key} {report[key]} \\n\")\n",
    " \n",
    "    "
   ]
  }
 ],
 "metadata": {
  "kernelspec": {
   "display_name": "Python 3",
   "language": "python",
   "name": "python3"
  },
  "language_info": {
   "codemirror_mode": {
    "name": "ipython",
    "version": 3
   },
   "file_extension": ".py",
   "mimetype": "text/x-python",
   "name": "python",
   "nbconvert_exporter": "python",
   "pygments_lexer": "ipython3",
   "version": "3.8.3"
  }
 },
 "nbformat": 4,
 "nbformat_minor": 4
}
