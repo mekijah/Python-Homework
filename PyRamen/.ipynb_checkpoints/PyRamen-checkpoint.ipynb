{
 "cells": [
  {
   "cell_type": "code",
   "execution_count": null,
   "metadata": {},
   "outputs": [],
   "source": [
    "import csv\n",
    "from pathlib import Path"
   ]
  },
  {
   "cell_type": "code",
   "execution_count": null,
   "metadata": {},
   "outputs": [],
   "source": [
    "# @TODO: Set file paths for menu_data.csv and sales_data.csv\n"
   ]
  },
  {
   "cell_type": "code",
   "execution_count": 12,
   "metadata": {},
   "outputs": [
    {
     "name": "stdout",
     "output_type": "stream",
     "text": [
      "['edamame,appetizers,\"boiled soybeans, maldon sea salt\",4,1\\n', 'house salad,appetizers,\"mixed greens, cherry tomatoes, cucumber, house ginger dressing\",4,2\\n', 'cucumber sunomono salad,appetizers,\"cucumber, ponzu dressing, pickled ginger sproud, sesame seeds\",5,2\\n', 'hiyashi wakame seaweed salad,appetizers,\"sweet soy-marinated wakame seaweed threads, pickled ginger sprout, sesame seeds\",5,2\\n', 'agedashi tofu,appetizers,\"tempura battered tofu, katsuobushi, tsuyu broth, scallions\",5,2\\n', 'hiyayakko tofu,appetizers,\"chilled soft tofu, house shoyu, katsuobushi, ginger, scallions\",5,2\\n', 'pork floss bao,appetizers,\"two steamed buns, minced lean slow braised niman, ranch pork belly, cucumbers, sriracha mayo\",4,2\\n', 'kakuni bao,appetizers,\"two steamed buns, chopped fatty slow braised niman ranch pork belly, cucumbers, house bao sauce\",6,3\\n', 'edamame fried gyoza (vegan),appetizers,six crispy fried edamame and cabbage pot stickers; ponzu rayu dipping sauce,6,3\\n', 'fried gyoza,appetizers,six cripsy fried pork and vegetable pot stickers; ponzu rayu dipping sauce,6,6\\n', 'takoyaki,appetizers,\"six octopus-filled fried fritters, kewpie mayo, okonomi sauce, aonori, katsuobushi, nori\",6,3\\n', 'rock shrimp tempura,appetizers,\"deep fried tempura battered rock shrimp, sriracha mayo, nisume sauce, aonori, scallions\",6,3\\n', 'soft-shell crab tempura,appetizers,\"single deep fried soft-shell crab, tsuyu dipping broth\",6,3\\n', 'ebi katsu shrimp bao,appetizers,\"two steamed buns, panko-crusted fried shrimp patties, yuzu-kosho mayo, aonori, scallions\",6,3\\n', 'nagomi shoyu,entree,\"shoyu seasoned clear double stock (organic chick broth + house dashi); slow braised niman ranch pork belly, hanjuku tamago, nori, menma, scallions\",11,5\\n', 'shio ramen,entree,\"sea salt seasoned clear double stock (organic chicken broth + house dashi); slow braised niman ranch pork belly, hanjuku tamago, kikurage, nori, scallions\",11,5\\n', 'spicy miso ramen,entree,\"house togarashi miso blend + niman ranch pork bone stock; slow braised niman ranch pork belly, hanjuku tamago, kikurage, nori, scallions\",12,5\\n', 'vegetarian spicy miso,entree,\"house togarashi miso blend + vegan dashi; tempura fried tofu, sweet corn, edamame, kikurage, nori, scallions; organic soy milk upon request\",12,5\\n', 'miso crab ramen,entree,\"house miso crab blend + vegan dashi; slow braised niman ranch pork belly, crab meat, hanjuku tamago, kikurage, nori, scallions\",12,6\\n', 'soft-shell miso crab ramen,entree,\"house miso crab blend + vegan dashi; fried whole soft-shell crab, hanjuku tamago, kikurage, nori, scallions\",14,7\\n', 'tori paitan ramen,entree,\"rich, shoyu seasoned double stock (organic chicken broth + house dashi); slow braised niman ranch pork belly, hanuku tamago, kikurage, nori, scllaions\",13,6\\n', 'tonkotsu ramen,entree,\"rich, shoyi seasoned niman ranch pork bone stock; slow braised niman ranch pork belly, hanjuku tamago, kikurage, nori, spring radish, scallions\",13,6\\n', 'burnt garlic tonkotsu ramen,entree,\"rich, shoyi and burnt garlic seasoned niman ranch pork bone stock; slow braised niman ranch pork belly, hanjuku tamago, kikurage, sweet corn, nori, scallions\",14,6\\n', 'vegetarian curry + king trumpet mushroom ramen,entree,\"house curry blend + vegan dashi; fried king trumpet mushroom, tempura fried tofu, mung bean sprouts, kikurage, nori, scallions\",13,7\\n', 'truffle butter ramen,entree,\"rich, shoyu seasoned niman ranch prok bone stock; truffle compound butter, slow braised niman ranch pork belly, kikurage, sweet corn, nori, scallions\",14,7\\n', 'green tea,drinks,green tea,2.5,1\\n', 'coke,drinks,Coca Cola soda,2,1\\n', 'black sesame ice cream,desserts,\"house-made black sesame ice cream, valrhona chocolate threads, complimentary hojicha\",5,2\\n', 'matcha ice cream,desserts,\"house-made matcha ice cream, white chocolate pearls; complimentary hojicha\",5,2\\n', 'mango mochi ice cream,desserts,two rice-cake bonbons filled with strawberry ice cream; complimentary hojicha,5,2\\n', 'strawberry mochi ice cream,desserts,two rice-cake bonbons filled with strawberry ice cream; complimentary hojicha,5,2\\n', 'black sesame creme brulee,desserts,house made black sesame infused creme brulee; complimentary hojicha,6,3\\n']\n",
      "['1,01-01-2017,7437926611570799,1,spicy miso ramen\\n', '2,01-01-2017,7437926611570799,1,spicy miso ramen\\n', '3,01-01-2017,8421920068932819,3,tori paitan ramen\\n', '4,01-01-2017,8421920068932819,3,tori paitan ramen\\n', '5,01-01-2017,4787310681569648,1,truffle butter ramen\\n', '6,01-01-2017,4787310681569648,1,truffle butter ramen\\n', '7,01-01-2017,8252818705821725,1,tonkotsu ramen\\n', '8,01-01-2017,8252818705821725,1,tonkotsu ramen\\n', '9,01-01-2017,3119034881407323,1,vegetarian spicy miso\\n', '10,01-01-2017,3119034881407323,1,vegetarian spicy miso\\n']\n",
      "Line_Item_ID,Date,Credit_Card_Number,Quantity,Menu_Item\n",
      "\n",
      "{'-': {'01-count': 0, '02-revenue': 0, '03-cogs': 0, '04-profit': 0}, '1': {'01-count': 0, '02-revenue': 0, '03-cogs': 0, '04-profit': 0}, '0': {'01-count': 0, '02-revenue': 0, '03-cogs': 0, '04-profit': 0}, ',': {'01-count': 0, '02-revenue': 0, '03-cogs': 0, '04-profit': 0}, '2': {'01-count': 0, '02-revenue': 0, '03-cogs': 0, '04-profit': 0}, '3': {'01-count': 0, '02-revenue': 0, '03-cogs': 0, '04-profit': 0}, '4': {'01-count': 0, '02-revenue': 0, '03-cogs': 0, '04-profit': 0}, '5': {'01-count': 0, '02-revenue': 0, '03-cogs': 0, '04-profit': 0}, '6': {'01-count': 0, '02-revenue': 0, '03-cogs': 0, '04-profit': 0}, '7': {'01-count': 0, '02-revenue': 0, '03-cogs': 0, '04-profit': 0}, '8': {'01-count': 0, '02-revenue': 0, '03-cogs': 0, '04-profit': 0}, '9': {'01-count': 0, '02-revenue': 0, '03-cogs': 0, '04-profit': 0}}\n"
     ]
    }
   ],
   "source": [
    "import csv\n",
    "from pathlib import Path\n",
    "\n",
    "menu_filepath = Path(\"menu_data.csv\")\n",
    "sales_filepath = Path(\"sales_data.csv\")\n",
    "menu = []\n",
    "sales = []\n",
    "with open(menu_filepath, 'r') as menu_file:\n",
    "    h1= next(menu_file)\n",
    "    for x in menu_file:\n",
    "        menu.append(x)\n",
    "#Path(menu_filepath).exist()\n",
    "print(menu)\n",
    "     \n",
    "with open(sales_filepath, 'r') as sales_file:\n",
    "    h2= next(sales_file)\n",
    "    for x in sales_file:\n",
    "        sales.append(x)\n",
    "#Path(menu_filepath).exist()\n",
    "print(sales[0:10])  \n",
    "\n",
    "report = {}\n",
    "print(h2)\n",
    "\n",
    "for x in sales:\n",
    "    if(x[4] not in report):\n",
    "        report[x[4]] = {\"01-count\": 0,\"02-revenue\": 0,\"03-cogs\": 0,\"04-profit\": 0,}\n",
    "        \n",
    "print(report) \n",
    "\n",
    "\n",
    " \n",
    "    "
   ]
  }
 ],
 "metadata": {
  "kernelspec": {
   "display_name": "Python 3",
   "language": "python",
   "name": "python3"
  },
  "language_info": {
   "codemirror_mode": {
    "name": "ipython",
    "version": 3
   },
   "file_extension": ".py",
   "mimetype": "text/x-python",
   "name": "python",
   "nbconvert_exporter": "python",
   "pygments_lexer": "ipython3",
   "version": "3.8.3"
  }
 },
 "nbformat": 4,
 "nbformat_minor": 4
}
