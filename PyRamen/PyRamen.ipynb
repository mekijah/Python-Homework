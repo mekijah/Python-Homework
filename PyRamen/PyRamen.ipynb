{
 "cells": [
  {
   "cell_type": "code",
   "execution_count": 7,
   "metadata": {},
   "outputs": [],
   "source": [
    "import csv\n",
    "from pathlib import Path\n",
    "import sys"
   ]
  },
  {
   "cell_type": "code",
   "execution_count": null,
   "metadata": {},
   "outputs": [],
   "source": [
    "# @TODO: Set file paths for menu_data.csv and sales_data.csv\n"
   ]
  },
  {
   "cell_type": "code",
   "execution_count": 9,
   "metadata": {},
   "outputs": [
    {
     "name": "stdout",
     "output_type": "stream",
     "text": [
      "[['1', '01-01-2017', '7437926611570799', '1', 'spicy miso ramen'], ['2', '01-01-2017', '7437926611570799', '1', 'spicy miso ramen'], ['3', '01-01-2017', '8421920068932819', '3', 'tori paitan ramen'], ['4', '01-01-2017', '8421920068932819', '3', 'tori paitan ramen'], ['5', '01-01-2017', '4787310681569648', '1', 'truffle butter ramen'], ['6', '01-01-2017', '4787310681569648', '1', 'truffle butter ramen'], ['7', '01-01-2017', '8252818705821725', '1', 'tonkotsu ramen'], ['8', '01-01-2017', '8252818705821725', '1', 'tonkotsu ramen'], ['9', '01-01-2017', '3119034881407323', '1', 'vegetarian spicy miso'], ['10', '01-01-2017', '3119034881407323', '1', 'vegetarian spicy miso']]\n",
      "['Line_Item_ID', 'Date', 'Credit_Card_Number', 'Quantity', 'Menu_Item']\n",
      "{'spicy miso ramen': {'01-count': 9238.0, '02-revenue': 110856.0, '03-cogs': 46190.0, '04-profit': 64666.0}, 'tori paitan ramen': {'01-count': 9156.0, '02-revenue': 119028.0, '03-cogs': 54936.0, '04-profit': 64092.0}, 'truffle butter ramen': {'01-count': 8982.0, '02-revenue': 125748.0, '03-cogs': 62874.0, '04-profit': 62874.0}, 'tonkotsu ramen': {'01-count': 9288.0, '02-revenue': 120744.0, '03-cogs': 55728.0, '04-profit': 65016.0}, 'vegetarian spicy miso': {'01-count': 9216.0, '02-revenue': 110592.0, '03-cogs': 46080.0, '04-profit': 64512.0}, 'shio ramen': {'01-count': 9180.0, '02-revenue': 100980.0, '03-cogs': 45900.0, '04-profit': 55080.0}, 'miso crab ramen': {'01-count': 8890.0, '02-revenue': 106680.0, '03-cogs': 53340.0, '04-profit': 53340.0}, 'nagomi shoyu': {'01-count': 9132.0, '02-revenue': 100452.0, '03-cogs': 45660.0, '04-profit': 54792.0}, 'soft-shell miso crab ramen': {'01-count': 9130.0, '02-revenue': 127820.0, '03-cogs': 63910.0, '04-profit': 63910.0}, 'burnt garlic tonkotsu ramen': {'01-count': 9070.0, '02-revenue': 126980.0, '03-cogs': 54420.0, '04-profit': 72560.0}, 'vegetarian curry + king trumpet mushroom ramen': {'01-count': 8824.0, '02-revenue': 114712.0, '03-cogs': 61768.0, '04-profit': 52944.0}}\n"
     ]
    }
   ],
   "source": [
    "#importing csv module\n",
    "import csv\n",
    "from pathlib import Path\n",
    "\n",
    "#csv file name\n",
    "menu_filepath = Path(\"menu_data.csv\")\n",
    "sales_filepath = Path(\"sales_data.csv\")\n",
    "\n",
    "#initializing the rows list\n",
    "menu = []\n",
    "sales = []\n",
    "\n",
    "#reading menu_data csv file\n",
    "with open(menu_filepath, 'r') as menufile:\n",
    "    \n",
    "    #Extracting header names through first row\n",
    "    csv_reader= csv.reader(menufile, delimiter =',')\n",
    "    h1= next(csv_reader)\n",
    "    \n",
    "    #Extracting each row one by one into the menu list\n",
    "    for row in csv_reader:\n",
    "        menu.append(row)\n",
    "        \n",
    "#Path(menu_filepath).exist()\n",
    "#print(menu)\n",
    "     \n",
    "#Reading sales_data csv file\n",
    "with open(sales_filepath, 'r') as salesfile:\n",
    "    \n",
    "    #Extracting header names through the first row\n",
    "    csv_reader = csv.reader(salesfile, delimiter =',')\n",
    "    h2= next(csv_reader)\n",
    "    \n",
    "    #Extracting each data row one by one into the sales list\n",
    "    for row in csv_reader:\n",
    "        sales.append(row)\n",
    "        \n",
    "#Path(menu_filepath).exist()\n",
    "print(sales[0:10])  \n",
    "\n",
    "# Initialize an empty report dictionary to hold the future aggregated per-product results\n",
    "report = {}\n",
    "print(h2)\n",
    "\n",
    "#Loop through every row of the sales data\n",
    "for sales_row in sales:\n",
    "    \n",
    "    sales_item =sales_row[4]\n",
    "    quantity = sales_row[3]\n",
    "          \n",
    "# Initialize the product report entry to 0 if not already in the dictionary\n",
    "    if(sales_item not in report):\n",
    "        report[sales_item] = {\"01-count\": 0,\"02-revenue\": 0,\"03-cogs\": 0,\"04-profit\": 0,}\n",
    "    \n",
    "    else:\n",
    "        continue\n",
    "        \n",
    "#Get the menu_data details for sale_item\n",
    "  \n",
    "for menu_d in menu:\n",
    "    price = float(menu_d[3])\n",
    "    cost  = float(menu_d[4])\n",
    "    menu_item = menu_d[0]\n",
    "    \n",
    "    for sales_data in sales:\n",
    "    \n",
    "        sales_item = sales_data[4] \n",
    "        quantity = float(sales_data[3])  \n",
    "        profit = price - cost\n",
    "    \n",
    "        if sales_item == menu_item:\n",
    "            report[sales_item][\"01-count\"] += quantity\n",
    "            report[sales_item][\"02-revenue\"] += price * quantity\n",
    "            report[sales_item][\"03-cogs\"] += cost * quantity\n",
    "            report[sales_item][\"04-profit\"] += profit * quantity\n",
    "              \n",
    "\n",
    "# output file with metrics\n",
    "output_path = Path(\"main.ipynb.txt\")\n",
    "default_output = sys.stdout\n",
    "\n",
    "with open(output_path, 'w') as file:\n",
    "    file.write(\"This is the financial report for PyRamen.\\n\")\n",
    "    sys.stdout = file\n",
    "        \n",
    "    print(report)\n",
    "    \n",
    "    sys.stdout = default_output\n",
    "    \n",
    "print(report)\n",
    "\n",
    "    \n",
    "\n",
    "\n",
    " \n",
    "    "
   ]
  }
 ],
 "metadata": {
  "kernelspec": {
   "display_name": "Python 3",
   "language": "python",
   "name": "python3"
  },
  "language_info": {
   "codemirror_mode": {
    "name": "ipython",
    "version": 3
   },
   "file_extension": ".py",
   "mimetype": "text/x-python",
   "name": "python",
   "nbconvert_exporter": "python",
   "pygments_lexer": "ipython3",
   "version": "3.8.3"
  }
 },
 "nbformat": 4,
 "nbformat_minor": 4
}
