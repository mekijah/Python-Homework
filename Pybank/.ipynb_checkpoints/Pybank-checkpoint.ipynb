{
 "cells": [
  {
   "cell_type": "code",
   "execution_count": null,
   "metadata": {},
   "outputs": [],
   "source": [
    "# @TODO: From the pathlib library, import the main class Patfrom pathlib import path\n",
    "from pathlib import Path\n",
    "import csv\n",
    "import pandas"
   ]
  },
  {
   "cell_type": "code",
   "execution_count": null,
   "metadata": {},
   "outputs": [],
   "source": [
    "# @TODO: import csv file and define \n",
    "file_path = Path(\"Resources/budget_data.csv\")\n",
    "budget_data = pd.read_csv(file_path)"
   ]
  },
  {
   "cell_type": "code",
   "execution_count": null,
   "metadata": {},
   "outputs": [],
   "source": [
    "# create dictionary with dates\n",
    "dates = budget_data['Date']\n",
    "PnL = budget_data['Profit/Losses']\n",
    "total_info = dict(zip(dates, PnL))"
   ]
  },
  {
   "cell_type": "code",
   "execution_count": null,
   "metadata": {},
   "outputs": [],
   "source": [
    "#define variables\n",
    "total_num_months = 0\n",
    "net_total_PnL = 0\n",
    "average_change_PnL = 0\n",
    "greatest_increase_profits = 0 \n",
    "greatest_decrease_profits = 0\n",
    "max_date = [] \n",
    "min_date = []\n"
   ]
  },
  {
   "cell_type": "code",
   "execution_count": null,
   "metadata": {},
   "outputs": [],
   "source": [
    "#set values for variables\n",
    "num_months = len(PnL)"
   ]
  },
  {
   "cell_type": "code",
   "execution_count": null,
   "metadata": {},
   "outputs": [],
   "source": [
    "#net_total\n",
    "for x in PnL:\n",
    "   net_total_Pnl = net_total_PnL + x"
   ]
  },
  {
   "cell_type": "code",
   "execution_count": null,
   "metadata": {},
   "outputs": [],
   "source": [
    "#average\n",
    "average_change_PnL = round(net_total_PnL / total_num_months, 2)\n",
    "\n",
    "maximum = PnL.max()\n",
    "\n",
    "minimum = PnL.min()\n",
    "\n",
    "max_date = list(total_info.keys())[list(total_info.values()).index(1170593)]\n",
    "\n",
    "min_date = list(total_info.keys())[list(total_info.values()).index(-1196225)]"
   ]
  },
  {
   "cell_type": "code",
   "execution_count": null,
   "metadata": {},
   "outputs": [],
   "source": [
    "# Set output file name\n",
    "output_path = 'output.txt'"
   ]
  },
  {
   "cell_type": "code",
   "execution_count": null,
   "metadata": {},
   "outputs": [],
   "source": [
    "# Open the output path as a file object\n",
    "with open(output_path, 'w') as file:\n",
    "    # Write daily_average to the output file, convert to string\n",
    "    file.write(f\"Financial Analysis\\n\")\n",
    "    file.write(f\"-------------------------------\")\n",
    "    file.write(f\"Total Months: {num_months}\")\n",
    "    file.write(f\"Total {net_total_Pnl}.\")\n",
    "    file.write(f\"Average Change : ${average_change_pnl} \")\n",
    "    file.write(f\"Greatest Increase in Profits {max_date} , {maximum}\")\n",
    "    file.write(f\"Greatest Decrease in Profits {min_date} , {minimum} \")"
   ]
  }
 ],
 "metadata": {
  "kernelspec": {
   "display_name": "Python 3",
   "language": "python",
   "name": "python3"
  },
  "language_info": {
   "codemirror_mode": {
    "name": "ipython",
    "version": 3
   },
   "file_extension": ".py",
   "mimetype": "text/x-python",
   "name": "python",
   "nbconvert_exporter": "python",
   "pygments_lexer": "ipython3",
   "version": "3.8.3"
  }
 },
 "nbformat": 4,
 "nbformat_minor": 4
}
