{
 "cells": [
  {
   "cell_type": "code",
   "execution_count": null,
   "metadata": {},
   "outputs": [],
   "source": [
    "# @TODO: From the pathlib library, import the main class Patfrom pathlib import path\n",
    "from pathlib import Path\n",
    "import csv\n",
    "import pandas"
   ]
  },
  {
   "cell_type": "code",
   "execution_count": null,
   "metadata": {},
   "outputs": [],
   "source": [
    "# @TODO: import csv file and define \n",
    "file_path = Path(\"Resources/budget_data.csv\")\n",
    "budget_data = pd.read_csv(file_path)"
   ]
  },
  {
   "cell_type": "code",
   "execution_count": null,
   "metadata": {},
   "outputs": [],
   "source": [
    "# create dictionary with dates\n",
    "dates = budget_data['Date']\n",
    "PnL = budget_data['Profit/Losses']\n",
    "total_info = dict(zip(dates, PnL))"
   ]
  },
  {
   "cell_type": "code",
   "execution_count": null,
   "metadata": {},
   "outputs": [],
   "source": [
    "#define variables\n",
    "total_num_months = 0\n",
    "net_total_PnL = 0\n",
    "average_change_PnL = 0\n",
    "greatest_increase_profits = 0 \n",
    "greatest_decrease_profits = 0\n",
    "max_date = list() \n",
    "min_date = \n"
   ]
  },
  {
   "cell_type": "code",
   "execution_count": null,
   "metadata": {},
   "outputs": [],
   "source": [
    "#set values for variables\n",
    "num_months = len(PnL)"
   ]
  }
 ],
 "metadata": {
  "kernelspec": {
   "display_name": "Python 3",
   "language": "python",
   "name": "python3"
  },
  "language_info": {
   "codemirror_mode": {
    "name": "ipython",
    "version": 3
   },
   "file_extension": ".py",
   "mimetype": "text/x-python",
   "name": "python",
   "nbconvert_exporter": "python",
   "pygments_lexer": "ipython3",
   "version": "3.8.3"
  }
 },
 "nbformat": 4,
 "nbformat_minor": 4
}
